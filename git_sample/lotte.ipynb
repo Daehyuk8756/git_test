{
 "cells": [
  {
   "cell_type": "code",
   "execution_count": 1,
   "metadata": {},
   "outputs": [
    {
     "name": "stdout",
     "output_type": "stream",
     "text": [
      "[[1, 2, 13, 15, 22, 25], [8, 15, 25, 35, 40, 42], [14, 20, 27, 32, 40, 44], [13, 16, 22, 27, 28, 31], [1, 3, 6, 31, 38, 45]]\n"
     ]
    }
   ],
   "source": [
    "import numpy as np\n",
    "import random\n",
    "num_list = []\n",
    "for i in range(5):\n",
    "    my_num = random.sample(range(1,46), 6)\n",
    "    my_num.sort()\n",
    "    num_list.append(my_num)\n",
    "print(num_list)"
   ]
  },
  {
   "cell_type": "code",
   "execution_count": 2,
   "metadata": {},
   "outputs": [
    {
     "data": {
      "text/plain": [
       "[[1, 2, 13, 15, 22, 25],\n",
       " [8, 15, 25, 35, 40, 42],\n",
       " [14, 20, 27, 32, 40, 44],\n",
       " [13, 16, 22, 27, 28, 31],\n",
       " [1, 3, 6, 31, 38, 45]]"
      ]
     },
     "execution_count": 2,
     "metadata": {},
     "output_type": "execute_result"
    }
   ],
   "source": [
    "num_list"
   ]
  },
  {
   "cell_type": "code",
   "execution_count": null,
   "metadata": {},
   "outputs": [],
   "source": []
  }
 ],
 "metadata": {
  "kernelspec": {
   "display_name": "baseball",
   "language": "python",
   "name": "python3"
  },
  "language_info": {
   "codemirror_mode": {
    "name": "ipython",
    "version": 3
   },
   "file_extension": ".py",
   "mimetype": "text/x-python",
   "name": "python",
   "nbconvert_exporter": "python",
   "pygments_lexer": "ipython3",
   "version": "3.9.16"
  },
  "orig_nbformat": 4
 },
 "nbformat": 4,
 "nbformat_minor": 2
}
